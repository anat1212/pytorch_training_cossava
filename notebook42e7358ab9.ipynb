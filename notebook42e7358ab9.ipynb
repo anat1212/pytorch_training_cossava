{
 "cells": [
  {
   "cell_type": "code",
   "execution_count": 1,
   "metadata": {
    "_cell_guid": "b1076dfc-b9ad-4769-8c92-a6c4dae69d19",
    "_uuid": "8f2839f25d086af736a60e9eeb907d3b93b6e0e5",
    "execution": {
     "iopub.execute_input": "2021-01-24T14:05:39.791422Z",
     "iopub.status.busy": "2021-01-24T14:05:39.790597Z",
     "iopub.status.idle": "2021-01-24T14:05:39.793467Z",
     "shell.execute_reply": "2021-01-24T14:05:39.793030Z"
    },
    "papermill": {
     "duration": 0.014436,
     "end_time": "2021-01-24T14:05:39.793559",
     "exception": false,
     "start_time": "2021-01-24T14:05:39.779123",
     "status": "completed"
    },
    "tags": []
   },
   "outputs": [],
   "source": [
    "# This Python 3 environment comes with many helpful analytics libraries installed\n",
    "# It is defined by the kaggle/python Docker image: https://github.com/kaggle/docker-python\n",
    "# For example, here's several helpful packages to load\n",
    "\n",
    "import numpy as np # linear algebra\n",
    "import pandas as pd # data processing, CSV file I/O (e.g. pd.read_csv)\n",
    "\n",
    "# Input data files are available in the read-only \"../input/\" directory\n",
    "# For example, running this (by clicking run or pressing Shift+Enter) will list all files under the input directory\n",
    "\n",
    "import os\n",
    "# for dirname, _, filenames in os.walk('/kaggle/input'):\n",
    "#     for filename in filenames:\n",
    "#         print(os.path.join(dirname, filename))\n",
    "\n",
    "# You can write up to 20GB to the current directory (/kaggle/working/) that gets preserved as output when you create a version using \"Save & Run All\" \n",
    "# You can also write temporary files to /kaggle/temp/, but they won't be saved outside of the current session"
   ]
  },
  {
   "cell_type": "code",
   "execution_count": 2,
   "metadata": {
    "execution": {
     "iopub.execute_input": "2021-01-24T14:05:39.809971Z",
     "iopub.status.busy": "2021-01-24T14:05:39.809443Z",
     "iopub.status.idle": "2021-01-24T14:05:42.067954Z",
     "shell.execute_reply": "2021-01-24T14:05:42.066547Z"
    },
    "papermill": {
     "duration": 2.268546,
     "end_time": "2021-01-24T14:05:42.068066",
     "exception": false,
     "start_time": "2021-01-24T14:05:39.799520",
     "status": "completed"
    },
    "tags": []
   },
   "outputs": [],
   "source": [
    "import torch\n",
    "import torchvision.transforms as transforms\n",
    "import torchvision.datasets as datasets\n",
    "import torchvision.models as models\n",
    "import torch.nn as nn\n",
    "import torch.optim as optim\n",
    "import numpy as np\n",
    "from PIL import Image\n",
    "import numpy as np\n",
    "import matplotlib.pyplot as plt\n",
    "import sys\n",
    "from sklearn.model_selection import train_test_split\n",
    "import random\n",
    "import datetime"
   ]
  },
  {
   "cell_type": "code",
   "execution_count": 3,
   "metadata": {
    "execution": {
     "iopub.execute_input": "2021-01-24T14:05:42.086805Z",
     "iopub.status.busy": "2021-01-24T14:05:42.086202Z",
     "iopub.status.idle": "2021-01-24T14:05:42.130091Z",
     "shell.execute_reply": "2021-01-24T14:05:42.129665Z"
    },
    "papermill": {
     "duration": 0.056504,
     "end_time": "2021-01-24T14:05:42.130182",
     "exception": false,
     "start_time": "2021-01-24T14:05:42.073678",
     "status": "completed"
    },
    "tags": []
   },
   "outputs": [],
   "source": [
    "model = nn.Sequential(\n",
    "    nn.Conv2d(3, 16, kernel_size=3, padding=1),\n",
    "    nn.ReLU(),\n",
    "    nn.MaxPool2d(2),\n",
    "    nn.Conv2d(16, 8, kernel_size=3, padding=1),\n",
    "    nn.ReLU(),\n",
    "    nn.MaxPool2d(2),\n",
    "    nn.Conv2d(8, 4, kernel_size=3, padding=1),\n",
    "    nn.ReLU(),\n",
    "    nn.MaxPool2d(2),\n",
    "    nn.Flatten(),\n",
    "    nn.Linear(4 * 75 * 100, 64),\n",
    "    nn.Linear(64, 5))"
   ]
  },
  {
   "cell_type": "code",
   "execution_count": 4,
   "metadata": {
    "execution": {
     "iopub.execute_input": "2021-01-24T14:05:42.481504Z",
     "iopub.status.busy": "2021-01-24T14:05:42.480863Z",
     "iopub.status.idle": "2021-01-24T14:05:42.487508Z",
     "shell.execute_reply": "2021-01-24T14:05:42.486991Z"
    },
    "papermill": {
     "duration": 0.352033,
     "end_time": "2021-01-24T14:05:42.487599",
     "exception": false,
     "start_time": "2021-01-24T14:05:42.135566",
     "status": "completed"
    },
    "tags": []
   },
   "outputs": [
    {
     "name": "stdout",
     "output_type": "stream",
     "text": [
      "Training on device cuda.\n"
     ]
    }
   ],
   "source": [
    "device = (torch.device('cuda') if torch.cuda.is_available() else torch.device('cpu'))\n",
    "print(f\"Training on device {device}.\")"
   ]
  },
  {
   "cell_type": "code",
   "execution_count": 5,
   "metadata": {
    "execution": {
     "iopub.execute_input": "2021-01-24T14:05:42.508438Z",
     "iopub.status.busy": "2021-01-24T14:05:42.507884Z",
     "iopub.status.idle": "2021-01-24T14:05:46.543027Z",
     "shell.execute_reply": "2021-01-24T14:05:46.544333Z"
    },
    "papermill": {
     "duration": 4.053849,
     "end_time": "2021-01-24T14:05:46.547869",
     "exception": false,
     "start_time": "2021-01-24T14:05:42.494020",
     "status": "completed"
    },
    "tags": []
   },
   "outputs": [
    {
     "data": {
      "text/plain": [
       "<All keys matched successfully>"
      ]
     },
     "execution_count": 5,
     "metadata": {},
     "output_type": "execute_result"
    }
   ],
   "source": [
    "data_path = '../input/cassava-2/cassava_2.pt'\n",
    "loaded_model = model.to(device=device)\n",
    "loaded_model.load_state_dict(torch.load(data_path, map_location=device))\n"
   ]
  },
  {
   "cell_type": "code",
   "execution_count": 6,
   "metadata": {
    "execution": {
     "iopub.execute_input": "2021-01-24T14:05:46.576520Z",
     "iopub.status.busy": "2021-01-24T14:05:46.575581Z",
     "iopub.status.idle": "2021-01-24T14:05:46.581233Z",
     "shell.execute_reply": "2021-01-24T14:05:46.579110Z"
    },
    "papermill": {
     "duration": 0.02293,
     "end_time": "2021-01-24T14:05:46.581377",
     "exception": false,
     "start_time": "2021-01-24T14:05:46.558447",
     "status": "completed"
    },
    "tags": []
   },
   "outputs": [],
   "source": [
    "# df = pd.read_csv('../input/cassava-leaf-disease-classification/sample_submission.csv')\n",
    "# df.head(2)"
   ]
  },
  {
   "cell_type": "code",
   "execution_count": 7,
   "metadata": {
    "execution": {
     "iopub.execute_input": "2021-01-24T14:05:46.613516Z",
     "iopub.status.busy": "2021-01-24T14:05:46.612675Z",
     "iopub.status.idle": "2021-01-24T14:05:47.329842Z",
     "shell.execute_reply": "2021-01-24T14:05:47.328864Z"
    },
    "papermill": {
     "duration": 0.740393,
     "end_time": "2021-01-24T14:05:47.329974",
     "exception": false,
     "start_time": "2021-01-24T14:05:46.589581",
     "status": "completed"
    },
    "tags": []
   },
   "outputs": [],
   "source": [
    "images_ids = []\n",
    "labels_pred = []\n",
    "import os\n",
    "for dirname, _, filenames in os.walk('../input/cassava-leaf-disease-classification/test_images'):\n",
    "    for filename in filenames:\n",
    "        pic = os.path.join(dirname, filename)\n",
    "        to_tensor = transforms.ToTensor()\n",
    "        x = to_tensor(Image.open(pic))\n",
    "        tens2 = x.unsqueeze(0)\n",
    "\n",
    "        with torch.no_grad():\n",
    "            loaded_model.eval()\n",
    "            tens2 = tens2.to(device=device) \n",
    "            y_pred = model(tens2)\n",
    "            ind, pred = torch.max(y_pred, dim=1)\n",
    "            images_ids.append(filename)\n",
    "            labels_pred.append(str(int(pred)))"
   ]
  },
  {
   "cell_type": "code",
   "execution_count": 8,
   "metadata": {
    "execution": {
     "iopub.execute_input": "2021-01-24T14:05:47.357079Z",
     "iopub.status.busy": "2021-01-24T14:05:47.356236Z",
     "iopub.status.idle": "2021-01-24T14:05:47.571373Z",
     "shell.execute_reply": "2021-01-24T14:05:47.570328Z"
    },
    "papermill": {
     "duration": 0.234661,
     "end_time": "2021-01-24T14:05:47.571489",
     "exception": false,
     "start_time": "2021-01-24T14:05:47.336828",
     "status": "completed"
    },
    "tags": []
   },
   "outputs": [],
   "source": [
    "df2 = pd.DataFrame({'image_id': images_ids})\n",
    "df2['label'] = labels_pred\n",
    "df2.to_csv('submission.csv', index=False)"
   ]
  }
 ],
 "metadata": {
  "kernelspec": {
   "display_name": "Python 3",
   "language": "python",
   "name": "python3"
  },
  "language_info": {
   "codemirror_mode": {
    "name": "ipython",
    "version": 3
   },
   "file_extension": ".py",
   "mimetype": "text/x-python",
   "name": "python",
   "nbconvert_exporter": "python",
   "pygments_lexer": "ipython3",
   "version": "3.7.6"
  },
  "papermill": {
   "duration": 12.674689,
   "end_time": "2021-01-24T14:05:48.646186",
   "environment_variables": {},
   "exception": null,
   "input_path": "__notebook__.ipynb",
   "output_path": "__notebook__.ipynb",
   "parameters": {},
   "start_time": "2021-01-24T14:05:35.971497",
   "version": "2.1.0"
  }
 },
 "nbformat": 4,
 "nbformat_minor": 4
}
